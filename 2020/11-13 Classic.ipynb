{
 "cells": [
  {
   "cell_type": "markdown",
   "metadata": {},
   "source": [
    "# Riddler Classic (13 Nov 2020)\n",
    "This notebook contains a solution for the [FiveThirtyEight Riddler Classic posted on November 13, 2020](https://fivethirtyeight.com/features/can-you-snatch-defeat-from-the-jaws-of-victory/).  "
   ]
  },
  {
   "cell_type": "code",
   "execution_count": 3,
   "metadata": {},
   "outputs": [
    {
     "output_type": "stream",
     "name": "stdout",
     "text": [
      "P=49.907089%\n"
     ]
    }
   ],
   "source": [
    "# Imports\n",
    "import math\n",
    "from scipy.stats import binom\n",
    "\n",
    "def solution(n_flips, chance = 0.99):\n",
    "    '''Returns the probability of a series occurring where the chosen team loses\n",
    "    after having a specified chance of victory.\n",
    "    \n",
    "    Arguments:\n",
    "      n_flips: number of flips in the series\n",
    "      chance: how big of a lead the team has to blow (chance of victory)\n",
    "    '''\n",
    "    # Calculated Parameters\n",
    "    wins_needed = int(n_flips/2) + 1\n",
    "\n",
    "    def win_prob(wins, losses, total_games): # returns survivor function for series\n",
    "        return binom.sf(int(total_games/2) - wins, total_games - wins - losses, .5)\n",
    "\n",
    "    max_losses = wins_needed - 1\n",
    "    while win_prob(wins_needed-1 , max_losses, n_flips) < chance:\n",
    "        max_losses -= 1\n",
    "    max_losses += 1\n",
    "\n",
    "    min_wins = 0\n",
    "    while win_prob(min_wins, 0, n_flips) < chance:\n",
    "        min_wins += 1\n",
    "        \n",
    "    path = [[0]*wins_needed for i in range(wins_needed)]\n",
    "\n",
    "    for w in range(wins_needed):\n",
    "        if w < min_wins:\n",
    "            if w == 0:\n",
    "                for l in range(1 + max_losses):\n",
    "                    path[0][l] = pow(2, -l)\n",
    "            else:\n",
    "                path[w][0] = .5*path[w-1][0]\n",
    "                for l in range(1, 1 + max_losses):\n",
    "                    path[w][l] = .5*(path[w-1][l] + path[w][l-1])\n",
    "        else:\n",
    "            path[w][0] = .5*path[w-1][0]\n",
    "            for l in range(1, wins_needed):\n",
    "                path[w][l] = .5*(path[w-1][l] + path[w][l-1])\n",
    "\n",
    "    return .5*sum(path[w][-1] for w in range(wins_needed))\n",
    "\n",
    "print('P={:f}%'.format(100*solution(101)))"
   ]
  },
  {
   "cell_type": "markdown",
   "metadata": {},
   "source": [
    "$$P_{\\text{collapse}} = \\sum_{S_i\\in S}P(\\text{start}\\rightarrow S_i)\\times P(S_i\\rightarrow\\text{collapse})$$\n",
    "Where $S_i$ is the transition point into area $S$"
   ]
  }
 ],
 "metadata": {
  "kernelspec": {
   "name": "python3",
   "display_name": "Python 3.8.5 64-bit",
   "metadata": {
    "interpreter": {
     "hash": "31f2aee4e71d21fbe5cf8b01ff0e069b9275f58929596ceb00d14d90e3e16cd6"
    }
   }
  },
  "language_info": {
   "codemirror_mode": {
    "name": "ipython",
    "version": 3
   },
   "file_extension": ".py",
   "mimetype": "text/x-python",
   "name": "python",
   "nbconvert_exporter": "python",
   "pygments_lexer": "ipython3",
   "version": "3.8.5-final"
  }
 },
 "nbformat": 4,
 "nbformat_minor": 4
}