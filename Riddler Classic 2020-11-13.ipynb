{
 "cells": [
  {
   "cell_type": "markdown",
   "metadata": {},
   "source": [
    "This notebook contains the solution for the FiveThirtyEight Riddler Classic posted on November 13, 2020."
   ]
  },
  {
   "cell_type": "code",
   "execution_count": 41,
   "metadata": {},
   "outputs": [],
   "source": [
    "# Imports\n",
    "import math\n",
    "from scipy.stats import binom\n",
    "\n",
    "# Puzzle Parameters\n",
    "n_flips = 101\n",
    "chance = .99\n",
    "\n",
    "# Calculated Parameters\n",
    "wins_needed = int(n_flips/2) + 1"
   ]
  },
  {
   "cell_type": "code",
   "execution_count": 42,
   "metadata": {},
   "outputs": [],
   "source": [
    "def win_prob(wins, losses, total_games):\n",
    "    return binom.sf(int(total_games/2) - wins, total_games - wins - losses, .5)"
   ]
  },
  {
   "cell_type": "code",
   "execution_count": 43,
   "metadata": {
    "scrolled": true
   },
   "outputs": [],
   "source": [
    "winning_probs = [[win_prob(wins, losses, n_flips) \n",
    "                  for losses in range(wins_needed)] for wins in range(wins_needed)]\n",
    "# print(*(' | '.join('{:.3f}'.format(k) for k in row) for row in winning_probs), sep='\\n')"
   ]
  },
  {
   "cell_type": "code",
   "execution_count": 44,
   "metadata": {
    "scrolled": true
   },
   "outputs": [],
   "source": [
    "max_losses = len([i for i in winning_probs[-1] if i >= chance])-1\n",
    "min_wins = -1\n",
    "for i, row in enumerate(winning_probs):\n",
    "    if row[0] >= chance:\n",
    "        min_wins = i\n",
    "        break\n",
    "# print(max_losses, min_wins)"
   ]
  },
  {
   "cell_type": "code",
   "execution_count": 45,
   "metadata": {},
   "outputs": [],
   "source": [
    "path = [[0]*wins_needed for i in range(wins_needed)]"
   ]
  },
  {
   "cell_type": "code",
   "execution_count": 46,
   "metadata": {
    "scrolled": true
   },
   "outputs": [],
   "source": [
    "for w in range(wins_needed):\n",
    "    if w < min_wins:\n",
    "        if w == 0:\n",
    "            for l in range(1 + max_losses):\n",
    "                path[0][l] = pow(2, -l)\n",
    "        else:\n",
    "            path[w][0] = .5*path[w-1][0]\n",
    "            for l in range(1, 1 + max_losses):\n",
    "                path[w][l] = .5*(path[w-1][l] + path[w][l-1])\n",
    "    else:\n",
    "        path[w][0] = .5*path[w-1][0]\n",
    "        for l in range(1, wins_needed):\n",
    "            path[w][l] = .5*(path[w-1][l] + path[w][l-1])"
   ]
  },
  {
   "cell_type": "code",
   "execution_count": 47,
   "metadata": {
    "scrolled": true
   },
   "outputs": [],
   "source": [
    "# print(*(' | '.join('{:.5f}'.format(k) for k in row) for row in path), sep='\\n')"
   ]
  },
  {
   "cell_type": "code",
   "execution_count": 48,
   "metadata": {
    "scrolled": true
   },
   "outputs": [
    {
     "name": "stdout",
     "output_type": "stream",
     "text": [
      "P = 49.86868168944423%\n"
     ]
    }
   ],
   "source": [
    "print('P = {}%'.format(50*sum(path[w][-1] for w in range(wins_needed))))"
   ]
  }
 ],
 "metadata": {
  "kernelspec": {
   "display_name": "Python 3",
   "language": "python",
   "name": "python3"
  },
  "language_info": {
   "codemirror_mode": {
    "name": "ipython",
    "version": 3
   },
   "file_extension": ".py",
   "mimetype": "text/x-python",
   "name": "python",
   "nbconvert_exporter": "python",
   "pygments_lexer": "ipython3",
   "version": "3.8.3"
  }
 },
 "nbformat": 4,
 "nbformat_minor": 4
}
